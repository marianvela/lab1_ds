{
 "cells": [
  {
   "cell_type": "markdown",
   "id": "447e9d9e-641d-4bb8-9f8e-1444fc274fae",
   "metadata": {},
   "source": [
    "Marian Vela - 17001222"
   ]
  },
  {
   "cell_type": "markdown",
   "id": "0f0ae7bc-3f9d-4a5a-9a95-3c2862c4c853",
   "metadata": {
    "tags": []
   },
   "source": [
    "# Laboratorio No. 1"
   ]
  },
  {
   "cell_type": "markdown",
   "id": "b1ef89b1-77a5-48b9-ba43-2c9e67c94e62",
   "metadata": {},
   "source": [
    "## 1. Segundos a Hora-Minuto-Segundo"
   ]
  },
  {
   "cell_type": "code",
   "execution_count": 5,
   "id": "c09e9d11-f211-4dfd-b676-d34aaf4ed54d",
   "metadata": {
    "tags": []
   },
   "outputs": [],
   "source": [
    "def convert(seconds):\n",
    "    hours = seconds // 3600\n",
    "    minutes = (seconds % 3600) // 60\n",
    "    seconds = (seconds % 3600) % 60\n",
    "    return f\"Horas: {hours}, Minutos: {minutes}, Segundos: {seconds}\"\n",
    "    \n",
    "def secondsToTime():\n",
    "    while True:\n",
    "        input_seconds = input(\"Ingrese los segundos: \")\n",
    "        try:\n",
    "            seconds = int(input_seconds)\n",
    "            if seconds < 0:\n",
    "                print(\"Ingrese un número no negativo.\")\n",
    "                continue\n",
    "            print(convert(seconds))\n",
    "            break\n",
    "        except ValueError:\n",
    "            return \"Ingrese un número válido.\"\n",
    "    "
   ]
  },
  {
   "cell_type": "code",
   "execution_count": 3,
   "id": "c4a43b6e-16f6-45ac-9787-5e5805fdb522",
   "metadata": {
    "tags": []
   },
   "outputs": [
    {
     "name": "stdout",
     "output_type": "stream",
     "text": [
      "Horas: 0, Minutos: 45, Segundos: 43\n",
      "Horas: 6515, Minutos: 31, Segundos: 11\n"
     ]
    }
   ],
   "source": [
    "print(convert(2743))\n",
    "print(convert(23455871))"
   ]
  },
  {
   "cell_type": "code",
   "execution_count": 6,
   "id": "1f321324-0f6d-49ca-a406-996f76dbe6ac",
   "metadata": {
    "tags": []
   },
   "outputs": [
    {
     "name": "stdin",
     "output_type": "stream",
     "text": [
      "Ingrese los segundos:  9899977\n"
     ]
    },
    {
     "name": "stdout",
     "output_type": "stream",
     "text": [
      "Horas: 2749, Minutos: 59, Segundos: 37\n"
     ]
    }
   ],
   "source": [
    "secondsToTime()"
   ]
  },
  {
   "cell_type": "markdown",
   "id": "b9ff974a-1386-4c77-8d11-509729462f4c",
   "metadata": {},
   "source": [
    "## 2. Patrones Triangulares"
   ]
  },
  {
   "cell_type": "code",
   "execution_count": 25,
   "id": "b4182cf9-33f8-46ab-8d65-0e2939ad7605",
   "metadata": {
    "tags": []
   },
   "outputs": [],
   "source": [
    "def triangle(number, char):\n",
    "    if 1 <= number <= 20:\n",
    "        for i in range(1, number + 1):\n",
    "            print(char * i + ' ' * (number - i) + '    ' +\n",
    "                  char * (number - i + 1) + ' ' * (i - 1) + '    ' +\n",
    "                  char * (number - i + 1) + ' ' * (i - 1) + '    ' +\n",
    "                  char * i + ' ' * (number - i))"
   ]
  },
  {
   "cell_type": "code",
   "execution_count": 18,
   "id": "5308b80e-2d96-4d97-bb4b-07922e0da723",
   "metadata": {
    "tags": []
   },
   "outputs": [
    {
     "name": "stdout",
     "output_type": "stream",
     "text": [
      "*       ****    ****    *   \n",
      "**      ***     ***     **  \n",
      "***     **      **      *** \n",
      "****    *       *       ****\n"
     ]
    }
   ],
   "source": [
    "triangle(4, '*')"
   ]
  },
  {
   "cell_type": "code",
   "execution_count": 19,
   "id": "07b9530b-c53a-422f-bb5b-36d1b50cb5a1",
   "metadata": {
    "tags": []
   },
   "outputs": [
    {
     "name": "stdout",
     "output_type": "stream",
     "text": [
      "*           ********    ********    *       \n",
      "**          *******     *******     **      \n",
      "***         ******      ******      ***     \n",
      "****        *****       *****       ****    \n",
      "*****       ****        ****        *****   \n",
      "******      ***         ***         ******  \n",
      "*******     **          **          ******* \n",
      "********    *           *           ********\n"
     ]
    }
   ],
   "source": [
    "triangle(8, '*')"
   ]
  },
  {
   "cell_type": "markdown",
   "id": "823d6a8e-e6eb-46d6-822c-fefc2773c092",
   "metadata": {},
   "source": [
    "### 3. Fecha de Nacimiento en años, meses, días"
   ]
  },
  {
   "cell_type": "code",
   "execution_count": 26,
   "id": "9788d944-2ef2-4a05-8723-54a84a4b6f4f",
   "metadata": {
    "tags": []
   },
   "outputs": [],
   "source": [
    "from datetime import datetime, timedelta"
   ]
  },
  {
   "cell_type": "code",
   "execution_count": 28,
   "id": "7133ca80-1e5a-49dd-ac67-5efc0a7c7b16",
   "metadata": {
    "tags": []
   },
   "outputs": [],
   "source": [
    "def age(day, month, year):\n",
    "    birthday = datetime(year, month, day)\n",
    "    current_date = datetime.now()\n",
    "    age = current_date - birthday\n",
    "    years = age.days // 365\n",
    "    months = (age.days % 365) // 30\n",
    "    days = (age.days % 365) % 30\n",
    "    return f\"Edad: {years} años, {months} meses, {days} dias\""
   ]
  },
  {
   "cell_type": "code",
   "execution_count": 29,
   "id": "23088331-f121-4787-9d12-436618922b39",
   "metadata": {
    "tags": []
   },
   "outputs": [
    {
     "name": "stdout",
     "output_type": "stream",
     "text": [
      "Edad: 26 años, 7 meses, 10 dias\n"
     ]
    }
   ],
   "source": [
    " print(age(30, 7, 1997))"
   ]
  },
  {
   "cell_type": "markdown",
   "id": "7ccac1e0-095d-40ea-964b-86c264c8ed26",
   "metadata": {},
   "source": [
    "## 4. Tupla a String"
   ]
  },
  {
   "cell_type": "code",
   "execution_count": 30,
   "id": "0983a749-e825-4555-889e-32c73bf6b6dc",
   "metadata": {
    "tags": []
   },
   "outputs": [],
   "source": [
    "def tupleToString(tuple_input):\n",
    "    return ''.join(map(str, tuple_input))"
   ]
  },
  {
   "cell_type": "code",
   "execution_count": 31,
   "id": "b928ef01-9c89-457b-8168-dbe4b54c818d",
   "metadata": {
    "tags": []
   },
   "outputs": [
    {
     "name": "stdout",
     "output_type": "stream",
     "text": [
      "102040570\n"
     ]
    }
   ],
   "source": [
    "print(tupleToString((10, 20, 40, 5, 70)))"
   ]
  },
  {
   "cell_type": "markdown",
   "id": "b8bf69f9-97ad-477d-959c-9b123ca79b3a",
   "metadata": {},
   "source": [
    "## 5. Eliminar tuplas vacías"
   ]
  },
  {
   "cell_type": "code",
   "execution_count": 45,
   "id": "53220449-8ba0-4050-a11d-41edcccfc1e5",
   "metadata": {
    "tags": []
   },
   "outputs": [],
   "source": [
    "def removeEmptyTuples(tuple_list):\n",
    "    return [t for t in tuple_list if t]"
   ]
  },
  {
   "cell_type": "code",
   "execution_count": 47,
   "id": "635faf26-3e57-4f33-ba3b-0017fc2ca08a",
   "metadata": {
    "tags": []
   },
   "outputs": [
    {
     "name": "stdout",
     "output_type": "stream",
     "text": [
      "[('X',), ('a', 'b'), ('a', 'b', 'c'), 'd']\n"
     ]
    }
   ],
   "source": [
    "print(removeEmptyTuples([(), (), ('X',), ('a', 'b'), ('a', 'b', 'c'), ('d')]))"
   ]
  },
  {
   "cell_type": "markdown",
   "id": "0c2e9ea1-7aa5-4f49-ba19-b70f5390a3e4",
   "metadata": {},
   "source": [
    "## 6. Promedio Total de Tuplas"
   ]
  },
  {
   "cell_type": "code",
   "execution_count": 55,
   "id": "80982fc7-8e79-43e9-8240-39c52cc60ac7",
   "metadata": {
    "tags": []
   },
   "outputs": [],
   "source": [
    "def averageTuples(tuples):\n",
    "    return tuple(sum(t)/len(t) for t in tuples if t)"
   ]
  },
  {
   "cell_type": "code",
   "execution_count": 56,
   "id": "af7ec240-0b87-48cc-a75b-d3ed6a5d36e6",
   "metadata": {
    "tags": []
   },
   "outputs": [
    {
     "name": "stdout",
     "output_type": "stream",
     "text": [
      "(10.5, 44.0, 58.0)\n"
     ]
    }
   ],
   "source": [
    "print(averageTuples(((10, 10, 10, 12), (30, 45, 56, 45), (81, 80, 39, 32))))"
   ]
  },
  {
   "cell_type": "markdown",
   "id": "a946a0ac-04eb-4327-b860-7044ab403712",
   "metadata": {},
   "source": [
    "## 7. Facturas"
   ]
  },
  {
   "cell_type": "code",
   "execution_count": 76,
   "id": "576bc6eb-a6de-4e25-a942-424efa5b626b",
   "metadata": {
    "tags": []
   },
   "outputs": [],
   "source": [
    "def printTotal(invoices, paid_invoices):\n",
    "    total_cost_due = sum(invoices.values())\n",
    "    total_cost_paid = sum(paid_invoices.values())\n",
    "    print(f\"Facturas pendientes: {len(invoices)}, Total pendiente de cobro: {total_cost_due:.2f}\")\n",
    "    print(f\"Facturas pagadas: {len(paid_invoices)}, Total costo pagado: {total_cost_paid:.2f}\")\n",
    "\n",
    "def invoiceProgram():\n",
    "    # diccionario      \n",
    "    invoices = {}\n",
    "    paid_invoices = {}\n",
    "    \n",
    "    # ciclo del programa\n",
    "    while True:\n",
    "        print(\"\\n\")\n",
    "        print(\"~~~Bienvenido al programa de gestión de facturas~~~\\n[1] Agregar factura\\n[2] Pagar factura existente\\n[3] Ver facturas pagadas\\n[4] Ver facturaas pendientes de pago\\n[5] Finalizar\\n\")\n",
    "        option = input(\"Ingrese la opción que desea: \")\n",
    "        \n",
    "        # AGREGAR FACTURA\n",
    "        \n",
    "        if option == \"1\":\n",
    "            invoice_number = input(\"Ingrese el número de factura: \")\n",
    "            \n",
    "            if len(invoice_number) == 4 and invoice_number.isdigit():\n",
    "                cost_input = input(\"Ingrese el valor del costo: \")\n",
    "                try:\n",
    "                    cost = float(cost_input)\n",
    "                    if cost >= 0:\n",
    "                        invoices[invoice_number] = cost\n",
    "                        print(\"Factura agregada exitosamente.\")\n",
    "                        print(\"Facturas actuales: \", invoices)\n",
    "                        \n",
    "                        printTotal(invoices, paid_invoices)\n",
    "                        \n",
    "                    else:\n",
    "                        print(\"Costo invalido. Debe ser un número con hasta 2 decimales.\")\n",
    "                except ValueError:\n",
    "                    print(\"Costo invalido. Debe ser un número con hasta 2 decimales.\")\n",
    "            else:\n",
    "                print(\"Numero de factura invalido, debe tener 4 digitos.\")\n",
    "                \n",
    "        # PAGAR FACTURA\n",
    "        \n",
    "        elif option == \"2\":\n",
    "            invoice_number = input(\"Ingrese el numero de factura a pagar: \")\n",
    "            \n",
    "            if invoice_number in invoices:\n",
    "                paid_invoices[invoice_number] = invoices.pop(invoice_number)\n",
    "                print(f\"Factura {invoice_number} pagada exitosamente.\")\n",
    "                \n",
    "                printTotal(invoices, paid_invoices)\n",
    "                \n",
    "            else:\n",
    "                print(\"Factura no encontrada.\")\n",
    "                \n",
    "        elif option == \"3\":\n",
    "            printTotal(invoices, paid_invoices)\n",
    "            print(\"Facturas pagadas: \", paid_invoices)\n",
    "            \n",
    "        elif option == \"4\":\n",
    "            printTotal(invoices, paid_invoices)\n",
    "            print(\"Facturas pendientes de pago: \", invoices)\n",
    "            \n",
    "        elif option == \"5\":\n",
    "            printTotal(invoices, paid_invoices)\n",
    "            print(\"Saliendo...\")\n",
    "            break\n",
    "            \n",
    "        else:\n",
    "            print(\"Opción no disponible.\")"
   ]
  },
  {
   "cell_type": "code",
   "execution_count": 77,
   "id": "912fb0e3-9596-4b41-addd-ff64245864e8",
   "metadata": {
    "tags": []
   },
   "outputs": [
    {
     "name": "stdout",
     "output_type": "stream",
     "text": [
      "Bienvenido al programa de gestión de facturas\n",
      "[1] Agregar factura\n",
      "[2] Pagar factura existente\n",
      "[3] Ver facturas pagadas\n",
      "[4] Ver facturaas pendientes de pago\n",
      "[5] Finalizar\n"
     ]
    },
    {
     "name": "stdin",
     "output_type": "stream",
     "text": [
      "Ingrese la opción que desea:  1234\n"
     ]
    },
    {
     "name": "stdout",
     "output_type": "stream",
     "text": [
      "Opción no disponible.\n",
      "Bienvenido al programa de gestión de facturas\n",
      "[1] Agregar factura\n",
      "[2] Pagar factura existente\n",
      "[3] Ver facturas pagadas\n",
      "[4] Ver facturaas pendientes de pago\n",
      "[5] Finalizar\n"
     ]
    },
    {
     "name": "stdin",
     "output_type": "stream",
     "text": [
      "Ingrese la opción que desea:  1\n",
      "Ingrese el número de factura:  1233\n",
      "Ingrese el valor del costo:  50.88\n"
     ]
    },
    {
     "name": "stdout",
     "output_type": "stream",
     "text": [
      "Factura agregada exitosamente.\n",
      "Facturas actuales:  {'1233': 50.88}\n",
      "Facturas pendientes: 1, Total pendiente de cobro: 50.88\n",
      "Facturas pagadas: 0, Total costo pagado: 0.00\n",
      "Bienvenido al programa de gestión de facturas\n",
      "[1] Agregar factura\n",
      "[2] Pagar factura existente\n",
      "[3] Ver facturas pagadas\n",
      "[4] Ver facturaas pendientes de pago\n",
      "[5] Finalizar\n"
     ]
    },
    {
     "name": "stdin",
     "output_type": "stream",
     "text": [
      "Ingrese la opción que desea:  1\n",
      "Ingrese el número de factura:  1234\n",
      "Ingrese el valor del costo:  100000.99\n"
     ]
    },
    {
     "name": "stdout",
     "output_type": "stream",
     "text": [
      "Factura agregada exitosamente.\n",
      "Facturas actuales:  {'1233': 50.88, '1234': 100000.99}\n",
      "Facturas pendientes: 2, Total pendiente de cobro: 100051.87\n",
      "Facturas pagadas: 0, Total costo pagado: 0.00\n",
      "Bienvenido al programa de gestión de facturas\n",
      "[1] Agregar factura\n",
      "[2] Pagar factura existente\n",
      "[3] Ver facturas pagadas\n",
      "[4] Ver facturaas pendientes de pago\n",
      "[5] Finalizar\n"
     ]
    },
    {
     "name": "stdin",
     "output_type": "stream",
     "text": [
      "Ingrese la opción que desea:  1\n",
      "Ingrese el número de factura:  1235\n",
      "Ingrese el valor del costo:  750\n"
     ]
    },
    {
     "name": "stdout",
     "output_type": "stream",
     "text": [
      "Factura agregada exitosamente.\n",
      "Facturas actuales:  {'1233': 50.88, '1234': 100000.99, '1235': 750.0}\n",
      "Facturas pendientes: 3, Total pendiente de cobro: 100801.87\n",
      "Facturas pagadas: 0, Total costo pagado: 0.00\n",
      "Bienvenido al programa de gestión de facturas\n",
      "[1] Agregar factura\n",
      "[2] Pagar factura existente\n",
      "[3] Ver facturas pagadas\n",
      "[4] Ver facturaas pendientes de pago\n",
      "[5] Finalizar\n"
     ]
    },
    {
     "name": "stdin",
     "output_type": "stream",
     "text": [
      "Ingrese la opción que desea:  2\n",
      "Ingrese el numero de factura a pagar:  1234\n"
     ]
    },
    {
     "name": "stdout",
     "output_type": "stream",
     "text": [
      "Factura 1234 pagada exitosamente.\n",
      "Facturas pendientes: 2, Total pendiente de cobro: 800.88\n",
      "Facturas pagadas: 1, Total costo pagado: 100000.99\n",
      "Bienvenido al programa de gestión de facturas\n",
      "[1] Agregar factura\n",
      "[2] Pagar factura existente\n",
      "[3] Ver facturas pagadas\n",
      "[4] Ver facturaas pendientes de pago\n",
      "[5] Finalizar\n"
     ]
    },
    {
     "name": "stdin",
     "output_type": "stream",
     "text": [
      "Ingrese la opción que desea:  5\n"
     ]
    },
    {
     "name": "stdout",
     "output_type": "stream",
     "text": [
      "Facturas pendientes: 2, Total pendiente de cobro: 800.88\n",
      "Facturas pagadas: 1, Total costo pagado: 100000.99\n",
      "Saliendo...\n"
     ]
    }
   ],
   "source": [
    "invoiceProgram()"
   ]
  },
  {
   "cell_type": "markdown",
   "id": "48de1372-f6ac-4e97-b26b-23cf7ae30289",
   "metadata": {},
   "source": [
    "## 8. Cartas y Probabilidad"
   ]
  },
  {
   "cell_type": "code",
   "execution_count": 105,
   "id": "de581b4c-c68a-4697-b4bd-34523a04f49d",
   "metadata": {
    "tags": []
   },
   "outputs": [],
   "source": [
    "import random"
   ]
  },
  {
   "cell_type": "code",
   "execution_count": 103,
   "id": "6d32e54a-624f-458b-90cc-eb0ac9b1d679",
   "metadata": {
    "tags": []
   },
   "outputs": [],
   "source": [
    "def pokerDeck():\n",
    "    suits = ['T', 'C', 'P', 'E']\n",
    "    numbers = [f\"{n:02}\" for n in range(1, 14)]\n",
    "    return {f\"{suit}{number}\" for suit in suits for number in numbers}"
   ]
  },
  {
   "cell_type": "code",
   "execution_count": 104,
   "id": "0663dde0-5880-4abf-bf84-ee3f0fc6222e",
   "metadata": {
    "tags": []
   },
   "outputs": [
    {
     "data": {
      "text/plain": [
       "{'C01',\n",
       " 'C02',\n",
       " 'C03',\n",
       " 'C04',\n",
       " 'C05',\n",
       " 'C06',\n",
       " 'C07',\n",
       " 'C08',\n",
       " 'C09',\n",
       " 'C10',\n",
       " 'C11',\n",
       " 'C12',\n",
       " 'C13',\n",
       " 'E01',\n",
       " 'E02',\n",
       " 'E03',\n",
       " 'E04',\n",
       " 'E05',\n",
       " 'E06',\n",
       " 'E07',\n",
       " 'E08',\n",
       " 'E09',\n",
       " 'E10',\n",
       " 'E11',\n",
       " 'E12',\n",
       " 'E13',\n",
       " 'P01',\n",
       " 'P02',\n",
       " 'P03',\n",
       " 'P04',\n",
       " 'P05',\n",
       " 'P06',\n",
       " 'P07',\n",
       " 'P08',\n",
       " 'P09',\n",
       " 'P10',\n",
       " 'P11',\n",
       " 'P12',\n",
       " 'P13',\n",
       " 'T01',\n",
       " 'T02',\n",
       " 'T03',\n",
       " 'T04',\n",
       " 'T05',\n",
       " 'T06',\n",
       " 'T07',\n",
       " 'T08',\n",
       " 'T09',\n",
       " 'T10',\n",
       " 'T11',\n",
       " 'T12',\n",
       " 'T13'}"
      ]
     },
     "execution_count": 104,
     "metadata": {},
     "output_type": "execute_result"
    }
   ],
   "source": [
    "deck = pokerDeck()\n",
    "deck"
   ]
  },
  {
   "cell_type": "code",
   "execution_count": 123,
   "id": "8eeb589d-0a8d-45fe-9b1d-ad347505bb59",
   "metadata": {
    "tags": []
   },
   "outputs": [],
   "source": [
    " def createSets(deck, set_size_1, set_size_2):\n",
    "    \n",
    "    # generar sets a partir del deck\n",
    "    \n",
    "    set_1 = set(random.sample(list(deck), set_size_1))\n",
    "    set_2 = set(random.sample(list(deck), set_size_2))\n",
    "    \n",
    "    print(f\"Set 1: {sorted(set_1)}\")\n",
    "    print(f\"Set 2: {sorted(set_2)}\")\n",
    "    print(f\"\\n\")\n",
    "    \n",
    "    intersection = set_1.intersection(set_2)\n",
    "    union = set_1.union(set_2)\n",
    "    \n",
    "    # Probabilidades\n",
    "    prob_set_1 = len(set_1) / len(deck)\n",
    "    prob_set_2 = len(set_2) / len(deck)\n",
    "    intersection_probability = len(intersection) / len(deck)\n",
    "    union_probability = len(union) / len(deck)\n",
    "\n",
    "    # Output\n",
    "    print(f\"------PROBABILIDADES------\")\n",
    "    print(f\"Probabilidad Set1: {prob_set_1}\")\n",
    "    print(f\"Probabilidad Set2: {prob_set_2}\")\n",
    "    print(f\"Probabilidad interseccion: {intersection_probability}\")\n",
    "    print(f\"Probabilidad union: {union_probability}\")\n",
    "    print(f\"\\n\")\n",
    "    \n",
    "    # Independencia\n",
    "    expected_intersection_probability = prob_set_1 * prob_set_2\n",
    "    if intersection_probability == expected_intersection_probability:\n",
    "        print(f\"Interseccion = P(Set1) * P(Set2): {expected_intersection_probability:.4f}\")\n",
    "        print(\"Son independientes.\")\n",
    "    else:\n",
    "        print(f\"Interseccion != P(Set1) * P(Set2): {expected_intersection_probability:.4f}\")\n",
    "        print(\"No son independientes.\")\n",
    "    \n",
    "    # Formula de adicion \n",
    "    expected_union_probability = prob_set_1 + prob_set_2 - intersection_probability\n",
    "    print(f\"\\n\")\n",
    "    print(f\"Union = P(Set 1) + P(Set 2) - P(Intersection): {expected_union_probability:.4f}\")\n",
    "    if expected_union_probability == union_probability:\n",
    "        print(\"La formula de la adicion se cumple.\")\n",
    "    else:\n",
    "        print(\"No se cumple la formula de adicion.\")"
   ]
  },
  {
   "cell_type": "code",
   "execution_count": 140,
   "id": "9e190053-351e-44d4-937d-423db630354a",
   "metadata": {
    "tags": []
   },
   "outputs": [
    {
     "name": "stdout",
     "output_type": "stream",
     "text": [
      "Set 1: ['C01', 'C03', 'C04', 'C07', 'E03', 'E04', 'E05', 'E06', 'E09', 'E10', 'E12', 'E13', 'P02', 'P03', 'P06', 'P10', 'P12', 'T01', 'T02', 'T03', 'T04', 'T05', 'T08', 'T10', 'T12', 'T13']\n",
      "Set 2: ['C02', 'C03', 'C04', 'C05', 'C10', 'E03', 'E05', 'E06', 'E07', 'E09', 'E12', 'E13', 'P01', 'P03', 'P04', 'P05', 'P07', 'P10', 'P11', 'P12', 'T01', 'T02', 'T03', 'T05', 'T06', 'T10']\n",
      "\n",
      "\n",
      "------PROBABILIDADES------\n",
      "Probabilidad Set1: 0.5\n",
      "Probabilidad Set2: 0.5\n",
      "Probabilidad interseccion: 0.3076923076923077\n",
      "Probabilidad union: 0.6923076923076923\n",
      "\n",
      "\n",
      "Interseccion != P(Set1) * P(Set2): 0.2500\n",
      "No son independientes.\n",
      "\n",
      "\n",
      "Union = P(Set 1) + P(Set 2) - P(Intersection): 0.6923\n",
      "La formula de la adicion se cumple.\n"
     ]
    }
   ],
   "source": [
    "createSets(deck, 26, 26)"
   ]
  },
  {
   "cell_type": "code",
   "execution_count": 125,
   "id": "203f41b7-738c-49e4-8442-9200400b4945",
   "metadata": {
    "tags": []
   },
   "outputs": [
    {
     "name": "stdout",
     "output_type": "stream",
     "text": [
      "Set 1: ['C12', 'E01', 'E02', 'E03', 'E04', 'E08', 'P02', 'P05', 'P09', 'T06']\n",
      "Set 2: ['C08', 'E02', 'E06', 'E12', 'P02', 'P07', 'P08', 'P12', 'T02']\n",
      "\n",
      "\n",
      "------PROBABILIDADES------\n",
      "Probabilidad Set1: 0.19230769230769232\n",
      "Probabilidad Set2: 0.17307692307692307\n",
      "Probabilidad interseccion: 0.038461538461538464\n",
      "Probabilidad union: 0.3269230769230769\n",
      "\n",
      "\n",
      "Interseccion != P(Set1) * P(Set2): 0.0333\n",
      "No son independientes.\n",
      "\n",
      "\n",
      "Union = P(Set 1) + P(Set 2) - P(Intersection): 0.3269\n",
      "No se cumple la formula de adicion.\n"
     ]
    }
   ],
   "source": [
    "createSets(deck, 10, 9)"
   ]
  },
  {
   "cell_type": "code",
   "execution_count": null,
   "id": "510412ca-8f67-4c8b-b6a4-28bdfdf8f44d",
   "metadata": {},
   "outputs": [],
   "source": []
  }
 ],
 "metadata": {
  "kernelspec": {
   "display_name": "Python 3 (ipykernel)",
   "language": "python",
   "name": "python3"
  },
  "language_info": {
   "codemirror_mode": {
    "name": "ipython",
    "version": 3
   },
   "file_extension": ".py",
   "mimetype": "text/x-python",
   "name": "python",
   "nbconvert_exporter": "python",
   "pygments_lexer": "ipython3",
   "version": "3.11.5"
  }
 },
 "nbformat": 4,
 "nbformat_minor": 5
}
